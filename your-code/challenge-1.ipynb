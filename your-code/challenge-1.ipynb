{
 "cells": [
  {
   "cell_type": "markdown",
   "metadata": {},
   "source": [
    "# Challenge 1 - Tic Tac Toe\n",
    "\n",
    "In this lab you will perform deep learning analysis on a dataset of playing [Tic Tac Toe](https://en.wikipedia.org/wiki/Tic-tac-toe).\n",
    "\n",
    "There are 9 grids in Tic Tac Toe that are coded as the following picture shows:\n",
    "\n",
    "![Tic Tac Toe Grids](tttboard.jpg)\n",
    "\n",
    "In the first 9 columns of the dataset you can find which marks (`x` or `o`) exist in the grids. If there is no mark in a certain grid, it is labeled as `b`. The last column is `class` which tells you whether Player X (who always moves first in Tic Tac Toe) wins in this configuration. Note that when `class` has the value `False`, it means either Player O wins the game or it ends up as a draw."
   ]
  },
  {
   "cell_type": "markdown",
   "metadata": {},
   "source": [
    "Follow the steps suggested below to conduct a neural network analysis using Tensorflow and Keras. You will build a deep learning model to predict whether Player X wins the game or not.\n",
    "\n",
    "## Step 1: Data Engineering\n",
    "\n",
    "This dataset is almost in the ready-to-use state so you do not need to worry about missing values and so on. Still, some simple data engineering is needed.\n",
    "\n",
    "1. Read `tic-tac-toe.csv` into a dataframe.\n",
    "1. Inspect the dataset. Determine if the dataset is reliable by eyeballing the data.\n",
    "1. Convert the categorical values to numeric in all columns.\n",
    "1. Separate the inputs and output.\n",
    "1. Normalize the input data."
   ]
  },
  {
   "cell_type": "code",
   "execution_count": 3,
   "metadata": {},
   "outputs": [],
   "source": [
    "import pandas as pd\n",
    "import numpy as np"
   ]
  },
  {
   "cell_type": "code",
   "execution_count": 4,
   "metadata": {},
   "outputs": [],
   "source": [
    "# 1. Read the data\n",
    "tic_df = pd.read_csv('tic-tac-toe.csv')"
   ]
  },
  {
   "cell_type": "code",
   "execution_count": 5,
   "metadata": {},
   "outputs": [
    {
     "name": "stdout",
     "output_type": "stream",
     "text": [
      "Dataset Info:\n",
      "<class 'pandas.core.frame.DataFrame'>\n",
      "RangeIndex: 958 entries, 0 to 957\n",
      "Data columns (total 10 columns):\n",
      " #   Column  Non-Null Count  Dtype \n",
      "---  ------  --------------  ----- \n",
      " 0   TL      958 non-null    object\n",
      " 1   TM      958 non-null    object\n",
      " 2   TR      958 non-null    object\n",
      " 3   ML      958 non-null    object\n",
      " 4   MM      958 non-null    object\n",
      " 5   MR      958 non-null    object\n",
      " 6   BL      958 non-null    object\n",
      " 7   BM      958 non-null    object\n",
      " 8   BR      958 non-null    object\n",
      " 9   class   958 non-null    bool  \n",
      "dtypes: bool(1), object(9)\n",
      "memory usage: 68.4+ KB\n",
      "None\n"
     ]
    }
   ],
   "source": [
    "# 2. Inspect the dataset\n",
    "print(\"Dataset Info:\")\n",
    "print(tic_df.info())"
   ]
  },
  {
   "cell_type": "code",
   "execution_count": 6,
   "metadata": {},
   "outputs": [
    {
     "name": "stdout",
     "output_type": "stream",
     "text": [
      "\n",
      "After conversion to numeric:\n"
     ]
    },
    {
     "data": {
      "text/html": [
       "<div>\n",
       "<style scoped>\n",
       "    .dataframe tbody tr th:only-of-type {\n",
       "        vertical-align: middle;\n",
       "    }\n",
       "\n",
       "    .dataframe tbody tr th {\n",
       "        vertical-align: top;\n",
       "    }\n",
       "\n",
       "    .dataframe thead th {\n",
       "        text-align: right;\n",
       "    }\n",
       "</style>\n",
       "<table border=\"1\" class=\"dataframe\">\n",
       "  <thead>\n",
       "    <tr style=\"text-align: right;\">\n",
       "      <th></th>\n",
       "      <th>TL</th>\n",
       "      <th>TM</th>\n",
       "      <th>TR</th>\n",
       "      <th>ML</th>\n",
       "      <th>MM</th>\n",
       "      <th>MR</th>\n",
       "      <th>BL</th>\n",
       "      <th>BM</th>\n",
       "      <th>BR</th>\n",
       "      <th>class</th>\n",
       "    </tr>\n",
       "  </thead>\n",
       "  <tbody>\n",
       "    <tr>\n",
       "      <th>0</th>\n",
       "      <td>1</td>\n",
       "      <td>1</td>\n",
       "      <td>1</td>\n",
       "      <td>1</td>\n",
       "      <td>0</td>\n",
       "      <td>0</td>\n",
       "      <td>1</td>\n",
       "      <td>0</td>\n",
       "      <td>0</td>\n",
       "      <td>1</td>\n",
       "    </tr>\n",
       "    <tr>\n",
       "      <th>1</th>\n",
       "      <td>1</td>\n",
       "      <td>1</td>\n",
       "      <td>1</td>\n",
       "      <td>1</td>\n",
       "      <td>0</td>\n",
       "      <td>0</td>\n",
       "      <td>0</td>\n",
       "      <td>1</td>\n",
       "      <td>0</td>\n",
       "      <td>1</td>\n",
       "    </tr>\n",
       "    <tr>\n",
       "      <th>2</th>\n",
       "      <td>1</td>\n",
       "      <td>1</td>\n",
       "      <td>1</td>\n",
       "      <td>1</td>\n",
       "      <td>0</td>\n",
       "      <td>0</td>\n",
       "      <td>0</td>\n",
       "      <td>0</td>\n",
       "      <td>1</td>\n",
       "      <td>1</td>\n",
       "    </tr>\n",
       "    <tr>\n",
       "      <th>3</th>\n",
       "      <td>1</td>\n",
       "      <td>1</td>\n",
       "      <td>1</td>\n",
       "      <td>1</td>\n",
       "      <td>0</td>\n",
       "      <td>0</td>\n",
       "      <td>0</td>\n",
       "      <td>-1</td>\n",
       "      <td>-1</td>\n",
       "      <td>1</td>\n",
       "    </tr>\n",
       "    <tr>\n",
       "      <th>4</th>\n",
       "      <td>1</td>\n",
       "      <td>1</td>\n",
       "      <td>1</td>\n",
       "      <td>1</td>\n",
       "      <td>0</td>\n",
       "      <td>0</td>\n",
       "      <td>-1</td>\n",
       "      <td>0</td>\n",
       "      <td>-1</td>\n",
       "      <td>1</td>\n",
       "    </tr>\n",
       "  </tbody>\n",
       "</table>\n",
       "</div>"
      ],
      "text/plain": [
       "   TL  TM  TR  ML  MM  MR  BL  BM  BR  class\n",
       "0   1   1   1   1   0   0   1   0   0      1\n",
       "1   1   1   1   1   0   0   0   1   0      1\n",
       "2   1   1   1   1   0   0   0   0   1      1\n",
       "3   1   1   1   1   0   0   0  -1  -1      1\n",
       "4   1   1   1   1   0   0  -1   0  -1      1"
      ]
     },
     "execution_count": 6,
     "metadata": {},
     "output_type": "execute_result"
    }
   ],
   "source": [
    "# 3. Convert categorical to numeric\n",
    "# Mapping: x=1, o=0, b=-1 for board positions; True=1, False=0 for class\n",
    "mapping = {'x': 1, 'o': 0, 'b': -1, True: 1, False: 0}\n",
    "for column in tic_df.columns:\n",
    "    tic_df[column] = tic_df[column].map(mapping)\n",
    "\n",
    "print(\"\\nAfter conversion to numeric:\")\n",
    "tic_df.head()"
   ]
  },
  {
   "cell_type": "code",
   "execution_count": 7,
   "metadata": {},
   "outputs": [
    {
     "name": "stdout",
     "output_type": "stream",
     "text": [
      "\n",
      "Input features shape: (958, 9)\n",
      "Output shape: (958,)\n"
     ]
    }
   ],
   "source": [
    "# 4. Separate inputs and output\n",
    "X = tic_df.iloc[:, :-1]  # All columns except the last one\n",
    "y = tic_df.iloc[:, -1]   # Last column (class)\n",
    "\n",
    "print(\"\\nInput features shape:\", X.shape)\n",
    "print(\"Output shape:\", y.shape)"
   ]
  },
  {
   "cell_type": "code",
   "execution_count": 9,
   "metadata": {},
   "outputs": [],
   "source": [
    "# 5. Normalize the input data\n",
    "from sklearn.preprocessing import StandardScaler\n",
    "scaler = StandardScaler()\n",
    "X_scaled = scaler.fit_transform(X)"
   ]
  },
  {
   "cell_type": "markdown",
   "metadata": {},
   "source": [
    "## Step 2: Build Neural Network\n",
    "\n",
    "To build the neural network, you can refer to your own codes you wrote while following the [Deep Learning with Python, TensorFlow, and Keras tutorial](https://www.youtube.com/watch?v=wQ8BIBpya2k) in the lesson. It's pretty similar to what you will be doing in this lab.\n",
    "\n",
    "1. Split the training and test data.\n",
    "1. Create a `Sequential` model.\n",
    "1. Add several layers to your model. Make sure you use ReLU as the activation function for the middle layers. Use Softmax for the output layer because each output has a single lable and all the label probabilities add up to 1.\n",
    "1. Compile the model using `adam` as the optimizer and `sparse_categorical_crossentropy` as the loss function. For metrics, use `accuracy` for now.\n",
    "1. Fit the training data.\n",
    "1. Evaluate your neural network model with the test data.\n",
    "1. Save your model as `tic-tac-toe.model`."
   ]
  },
  {
   "cell_type": "code",
   "execution_count": 10,
   "metadata": {},
   "outputs": [],
   "source": [
    "from sklearn.model_selection import train_test_split\n",
    "from tensorflow import keras\n",
    "from tensorflow.keras.models import Sequential\n",
    "from tensorflow.keras.layers import Dense, Dropout, Input\n",
    "from tensorflow.keras.optimizers import Adam"
   ]
  },
  {
   "cell_type": "code",
   "execution_count": 11,
   "metadata": {},
   "outputs": [],
   "source": [
    "# Split\n",
    "X_train, X_test, y_train, y_test = train_test_split(X_scaled, y, test_size=0.2, random_state=42)"
   ]
  },
  {
   "cell_type": "code",
   "execution_count": 12,
   "metadata": {},
   "outputs": [],
   "source": [
    "# Create Sequential model\n",
    "model = keras.Sequential()\n",
    "model.add(keras.layers.Dense(32, activation='relu', input_shape=(9,)))\n",
    "model.add(keras.layers.Dense(16, activation='relu'))\n",
    "model.add(keras.layers.Dense(2, activation='softmax'))"
   ]
  },
  {
   "cell_type": "code",
   "execution_count": 13,
   "metadata": {},
   "outputs": [],
   "source": [
    "# Compile the model\n",
    "model.compile(\n",
    "    optimizer='adam',\n",
    "    loss='sparse_categorical_crossentropy',\n",
    "    metrics=['accuracy']\n",
    ")"
   ]
  },
  {
   "cell_type": "code",
   "execution_count": 14,
   "metadata": {},
   "outputs": [
    {
     "name": "stdout",
     "output_type": "stream",
     "text": [
      "Model: \"sequential\"\n",
      "_________________________________________________________________\n",
      " Layer (type)                Output Shape              Param #   \n",
      "=================================================================\n",
      " dense (Dense)               (None, 32)                320       \n",
      "                                                                 \n",
      " dense_1 (Dense)             (None, 16)                528       \n",
      "                                                                 \n",
      " dense_2 (Dense)             (None, 2)                 34        \n",
      "                                                                 \n",
      "=================================================================\n",
      "Total params: 882\n",
      "Trainable params: 882\n",
      "Non-trainable params: 0\n",
      "_________________________________________________________________\n"
     ]
    }
   ],
   "source": [
    "# Print model summary\n",
    "model.summary()"
   ]
  },
  {
   "cell_type": "code",
   "execution_count": 15,
   "metadata": {},
   "outputs": [
    {
     "name": "stdout",
     "output_type": "stream",
     "text": [
      "Epoch 1/50\n",
      "24/24 [==============================] - 2s 31ms/step - loss: 0.6751 - accuracy: 0.6018 - val_loss: 0.6369 - val_accuracy: 0.6719\n",
      "Epoch 2/50\n",
      "24/24 [==============================] - 0s 7ms/step - loss: 0.6310 - accuracy: 0.6514 - val_loss: 0.6153 - val_accuracy: 0.6510\n",
      "Epoch 3/50\n",
      "24/24 [==============================] - 0s 6ms/step - loss: 0.6146 - accuracy: 0.6580 - val_loss: 0.6039 - val_accuracy: 0.6510\n",
      "Epoch 4/50\n",
      "24/24 [==============================] - 0s 9ms/step - loss: 0.5998 - accuracy: 0.6619 - val_loss: 0.5925 - val_accuracy: 0.6615\n",
      "Epoch 5/50\n",
      "24/24 [==============================] - 0s 7ms/step - loss: 0.5853 - accuracy: 0.6789 - val_loss: 0.5836 - val_accuracy: 0.6771\n",
      "Epoch 6/50\n",
      "24/24 [==============================] - 0s 6ms/step - loss: 0.5717 - accuracy: 0.7050 - val_loss: 0.5742 - val_accuracy: 0.6875\n",
      "Epoch 7/50\n",
      "24/24 [==============================] - 0s 9ms/step - loss: 0.5574 - accuracy: 0.7232 - val_loss: 0.5661 - val_accuracy: 0.6927\n",
      "Epoch 8/50\n",
      "24/24 [==============================] - 0s 6ms/step - loss: 0.5434 - accuracy: 0.7350 - val_loss: 0.5591 - val_accuracy: 0.7188\n",
      "Epoch 9/50\n",
      "24/24 [==============================] - 0s 6ms/step - loss: 0.5295 - accuracy: 0.7546 - val_loss: 0.5524 - val_accuracy: 0.7240\n",
      "Epoch 10/50\n",
      "24/24 [==============================] - 0s 7ms/step - loss: 0.5146 - accuracy: 0.7624 - val_loss: 0.5417 - val_accuracy: 0.7240\n",
      "Epoch 11/50\n",
      "24/24 [==============================] - 0s 7ms/step - loss: 0.5001 - accuracy: 0.7702 - val_loss: 0.5362 - val_accuracy: 0.7292\n",
      "Epoch 12/50\n",
      "24/24 [==============================] - 0s 6ms/step - loss: 0.4884 - accuracy: 0.7794 - val_loss: 0.5278 - val_accuracy: 0.7344\n",
      "Epoch 13/50\n",
      "24/24 [==============================] - 0s 7ms/step - loss: 0.4744 - accuracy: 0.7833 - val_loss: 0.5196 - val_accuracy: 0.7552\n",
      "Epoch 14/50\n",
      "24/24 [==============================] - 0s 8ms/step - loss: 0.4607 - accuracy: 0.7911 - val_loss: 0.5144 - val_accuracy: 0.7396\n",
      "Epoch 15/50\n",
      "24/24 [==============================] - 0s 10ms/step - loss: 0.4478 - accuracy: 0.7937 - val_loss: 0.5055 - val_accuracy: 0.7604\n",
      "Epoch 16/50\n",
      "24/24 [==============================] - 0s 13ms/step - loss: 0.4363 - accuracy: 0.8081 - val_loss: 0.4963 - val_accuracy: 0.7552\n",
      "Epoch 17/50\n",
      "24/24 [==============================] - 0s 10ms/step - loss: 0.4236 - accuracy: 0.8133 - val_loss: 0.4899 - val_accuracy: 0.7708\n",
      "Epoch 18/50\n",
      "24/24 [==============================] - 0s 12ms/step - loss: 0.4124 - accuracy: 0.8198 - val_loss: 0.4868 - val_accuracy: 0.7708\n",
      "Epoch 19/50\n",
      "24/24 [==============================] - 0s 6ms/step - loss: 0.4019 - accuracy: 0.8211 - val_loss: 0.4802 - val_accuracy: 0.7656\n",
      "Epoch 20/50\n",
      "24/24 [==============================] - 0s 12ms/step - loss: 0.3917 - accuracy: 0.8446 - val_loss: 0.4731 - val_accuracy: 0.7917\n",
      "Epoch 21/50\n",
      "24/24 [==============================] - 0s 7ms/step - loss: 0.3823 - accuracy: 0.8407 - val_loss: 0.4681 - val_accuracy: 0.7760\n",
      "Epoch 22/50\n",
      "24/24 [==============================] - 0s 10ms/step - loss: 0.3724 - accuracy: 0.8394 - val_loss: 0.4595 - val_accuracy: 0.7917\n",
      "Epoch 23/50\n",
      "24/24 [==============================] - 0s 10ms/step - loss: 0.3638 - accuracy: 0.8668 - val_loss: 0.4585 - val_accuracy: 0.8021\n",
      "Epoch 24/50\n",
      "24/24 [==============================] - 0s 8ms/step - loss: 0.3527 - accuracy: 0.8668 - val_loss: 0.4532 - val_accuracy: 0.7969\n",
      "Epoch 25/50\n",
      "24/24 [==============================] - 0s 15ms/step - loss: 0.3435 - accuracy: 0.8760 - val_loss: 0.4483 - val_accuracy: 0.8021\n",
      "Epoch 26/50\n",
      "24/24 [==============================] - 0s 7ms/step - loss: 0.3367 - accuracy: 0.8786 - val_loss: 0.4477 - val_accuracy: 0.8021\n",
      "Epoch 27/50\n",
      "24/24 [==============================] - 0s 10ms/step - loss: 0.3288 - accuracy: 0.8812 - val_loss: 0.4368 - val_accuracy: 0.8229\n",
      "Epoch 28/50\n",
      "24/24 [==============================] - 0s 10ms/step - loss: 0.3187 - accuracy: 0.8930 - val_loss: 0.4339 - val_accuracy: 0.8125\n",
      "Epoch 29/50\n",
      "24/24 [==============================] - 0s 9ms/step - loss: 0.3120 - accuracy: 0.8916 - val_loss: 0.4322 - val_accuracy: 0.8177\n",
      "Epoch 30/50\n",
      "24/24 [==============================] - 0s 11ms/step - loss: 0.3072 - accuracy: 0.8943 - val_loss: 0.4310 - val_accuracy: 0.8333\n",
      "Epoch 31/50\n",
      "24/24 [==============================] - 0s 5ms/step - loss: 0.2984 - accuracy: 0.8956 - val_loss: 0.4221 - val_accuracy: 0.8229\n",
      "Epoch 32/50\n",
      "24/24 [==============================] - 0s 11ms/step - loss: 0.2907 - accuracy: 0.9034 - val_loss: 0.4219 - val_accuracy: 0.8333\n",
      "Epoch 33/50\n",
      "24/24 [==============================] - 0s 9ms/step - loss: 0.2837 - accuracy: 0.9021 - val_loss: 0.4131 - val_accuracy: 0.8281\n",
      "Epoch 34/50\n",
      "24/24 [==============================] - 0s 13ms/step - loss: 0.2780 - accuracy: 0.9060 - val_loss: 0.4141 - val_accuracy: 0.8281\n",
      "Epoch 35/50\n",
      "24/24 [==============================] - 0s 6ms/step - loss: 0.2724 - accuracy: 0.9086 - val_loss: 0.4103 - val_accuracy: 0.8281\n",
      "Epoch 36/50\n",
      "24/24 [==============================] - 0s 8ms/step - loss: 0.2684 - accuracy: 0.9112 - val_loss: 0.4022 - val_accuracy: 0.8385\n",
      "Epoch 37/50\n",
      "24/24 [==============================] - 0s 10ms/step - loss: 0.2610 - accuracy: 0.9086 - val_loss: 0.4014 - val_accuracy: 0.8333\n",
      "Epoch 38/50\n",
      "24/24 [==============================] - 0s 10ms/step - loss: 0.2552 - accuracy: 0.9151 - val_loss: 0.3986 - val_accuracy: 0.8281\n",
      "Epoch 39/50\n",
      "24/24 [==============================] - 0s 8ms/step - loss: 0.2496 - accuracy: 0.9217 - val_loss: 0.3915 - val_accuracy: 0.8385\n",
      "Epoch 40/50\n",
      "24/24 [==============================] - 0s 9ms/step - loss: 0.2440 - accuracy: 0.9191 - val_loss: 0.3933 - val_accuracy: 0.8385\n",
      "Epoch 41/50\n",
      "24/24 [==============================] - 0s 7ms/step - loss: 0.2382 - accuracy: 0.9204 - val_loss: 0.3881 - val_accuracy: 0.8385\n",
      "Epoch 42/50\n",
      "24/24 [==============================] - 0s 7ms/step - loss: 0.2326 - accuracy: 0.9243 - val_loss: 0.3836 - val_accuracy: 0.8385\n",
      "Epoch 43/50\n",
      "24/24 [==============================] - 0s 7ms/step - loss: 0.2294 - accuracy: 0.9321 - val_loss: 0.3784 - val_accuracy: 0.8490\n",
      "Epoch 44/50\n",
      "24/24 [==============================] - 0s 8ms/step - loss: 0.2241 - accuracy: 0.9360 - val_loss: 0.3772 - val_accuracy: 0.8333\n",
      "Epoch 45/50\n",
      "24/24 [==============================] - 0s 6ms/step - loss: 0.2182 - accuracy: 0.9308 - val_loss: 0.3748 - val_accuracy: 0.8385\n",
      "Epoch 46/50\n",
      "24/24 [==============================] - 0s 6ms/step - loss: 0.2127 - accuracy: 0.9347 - val_loss: 0.3687 - val_accuracy: 0.8542\n",
      "Epoch 47/50\n",
      "24/24 [==============================] - 0s 7ms/step - loss: 0.2097 - accuracy: 0.9360 - val_loss: 0.3685 - val_accuracy: 0.8438\n",
      "Epoch 48/50\n",
      "24/24 [==============================] - 0s 6ms/step - loss: 0.2059 - accuracy: 0.9386 - val_loss: 0.3652 - val_accuracy: 0.8490\n",
      "Epoch 49/50\n",
      "24/24 [==============================] - 0s 6ms/step - loss: 0.2004 - accuracy: 0.9465 - val_loss: 0.3603 - val_accuracy: 0.8542\n",
      "Epoch 50/50\n",
      "24/24 [==============================] - 0s 6ms/step - loss: 0.1953 - accuracy: 0.9426 - val_loss: 0.3571 - val_accuracy: 0.8438\n"
     ]
    }
   ],
   "source": [
    "# Fit the training data\n",
    "history = model.fit(\n",
    "    X_train, y_train,\n",
    "    epochs=50,\n",
    "    batch_size=32,\n",
    "    validation_data=(X_test, y_test)\n",
    ")"
   ]
  },
  {
   "cell_type": "code",
   "execution_count": 16,
   "metadata": {},
   "outputs": [
    {
     "name": "stdout",
     "output_type": "stream",
     "text": [
      "6/6 [==============================] - 0s 3ms/step - loss: 0.3571 - accuracy: 0.8438\n",
      "\n",
      "Test Accuracy: 0.8438\n",
      "Test Loss: 0.3571\n"
     ]
    }
   ],
   "source": [
    "# Evaluate the model\n",
    "test_loss, test_accuracy = model.evaluate(X_test, y_test)\n",
    "print(f\"\\nTest Accuracy: {test_accuracy:.4f}\")\n",
    "print(f\"Test Loss: {test_loss:.4f}\")\n",
    "\n",
    "# Save the model\n",
    "model.save('tic-tac-toe.keras')"
   ]
  },
  {
   "cell_type": "markdown",
   "metadata": {},
   "source": [
    "## Step 3: Make Predictions\n",
    "\n",
    "Now load your saved model and use it to make predictions on a few random rows in the test dataset. Check if the predictions are correct."
   ]
  },
  {
   "cell_type": "code",
   "execution_count": 17,
   "metadata": {},
   "outputs": [
    {
     "name": "stdout",
     "output_type": "stream",
     "text": [
      "1/1 [==============================] - 0s 198ms/step\n",
      "Here's what the model predicts compared to reality:\n",
      "Predicted: 0, Actual: 0\n",
      "Predicted: 1, Actual: 1\n",
      "Predicted: 1, Actual: 1\n",
      "Predicted: 0, Actual: 0\n",
      "Predicted: 1, Actual: 1\n",
      "Predicted: 0, Actual: 0\n",
      "Predicted: 1, Actual: 1\n",
      "Predicted: 0, Actual: 0\n",
      "Predicted: 0, Actual: 0\n",
      "Predicted: 1, Actual: 1\n"
     ]
    }
   ],
   "source": [
    "# Load the saved model \n",
    "loaded_model = keras.models.load_model(\"tic-tac-toe.keras\")\n",
    "\n",
    "# Convert y_test to NumPy array if it's a Pandas Series\n",
    "y_test_array = y_test.to_numpy() if hasattr(y_test, 'to_numpy') else y_test\n",
    "\n",
    "# Select 5 random samples\n",
    "random_indices = np.random.choice(len(X_test), 10, replace=False)\n",
    "X_sample = X_test[random_indices]\n",
    "y_sample = y_test_array[random_indices]\n",
    "\n",
    "# Make predictions\n",
    "predictions = loaded_model.predict(X_sample)\n",
    "predicted_labels = np.argmax(predictions, axis=1)\n",
    "\n",
    "# Print results in your requested format\n",
    "print(\"Here's what the model predicts compared to reality:\")\n",
    "for i in range(len(X_sample)):\n",
    "    print(f\"Predicted: {predicted_labels[i]}, Actual: {y_sample[i]}\")"
   ]
  },
  {
   "cell_type": "markdown",
   "metadata": {},
   "source": [
    "## Step 4: Improve Your Model\n",
    "\n",
    "Did your model achieve low loss (<0.1) and high accuracy (>0.95)? If not, try to improve your model.\n",
    "\n",
    "But how? There are so many things you can play with in Tensorflow and in the next challenge you'll learn about these things. But in this challenge, let's just do a few things to see if they will help.\n",
    "\n",
    "* Add more layers to your model. If the data are complex you need more layers. But don't use more layers than you need. If adding more layers does not improve the model performance you don't need additional layers.\n",
    "* Adjust the learning rate when you compile the model. This means you will create a custom `tf.keras.optimizers.Adam` instance where you specify the learning rate you want. Then pass the instance to `model.compile` as the optimizer.\n",
    "    * `tf.keras.optimizers.Adam` [reference](https://www.tensorflow.org/api_docs/python/tf/keras/optimizers/Adam).\n",
    "    * Don't worry if you don't understand what the learning rate does. You'll learn about it in the next challenge.\n",
    "* Adjust the number of epochs when you fit the training data to the model. Your model performance continues to improve as you train more epochs. But eventually it will reach the ceiling and the performance will stay the same."
   ]
  },
  {
   "cell_type": "code",
   "execution_count": 19,
   "metadata": {},
   "outputs": [
    {
     "name": "stdout",
     "output_type": "stream",
     "text": [
      "Epoch 1/100\n",
      "96/96 [==============================] - 2s 10ms/step - loss: 0.6162 - accuracy: 0.6645 - val_loss: 0.5600 - val_accuracy: 0.7292\n",
      "Epoch 2/100\n",
      "96/96 [==============================] - 0s 5ms/step - loss: 0.5013 - accuracy: 0.7637 - val_loss: 0.4630 - val_accuracy: 0.8229\n",
      "Epoch 3/100\n",
      "96/96 [==============================] - 0s 5ms/step - loss: 0.3985 - accuracy: 0.8460 - val_loss: 0.4087 - val_accuracy: 0.8438\n",
      "Epoch 4/100\n",
      "96/96 [==============================] - 0s 5ms/step - loss: 0.3300 - accuracy: 0.8747 - val_loss: 0.3716 - val_accuracy: 0.8385\n",
      "Epoch 5/100\n",
      "96/96 [==============================] - 0s 5ms/step - loss: 0.2731 - accuracy: 0.8969 - val_loss: 0.3116 - val_accuracy: 0.8646\n",
      "Epoch 6/100\n",
      "96/96 [==============================] - 0s 5ms/step - loss: 0.1821 - accuracy: 0.9295 - val_loss: 0.2718 - val_accuracy: 0.8906\n",
      "Epoch 7/100\n",
      "96/96 [==============================] - 0s 5ms/step - loss: 0.1502 - accuracy: 0.9426 - val_loss: 0.2012 - val_accuracy: 0.9062\n",
      "Epoch 8/100\n",
      "96/96 [==============================] - 0s 5ms/step - loss: 0.0827 - accuracy: 0.9765 - val_loss: 0.1569 - val_accuracy: 0.9271\n",
      "Epoch 9/100\n",
      "96/96 [==============================] - 0s 5ms/step - loss: 0.0750 - accuracy: 0.9791 - val_loss: 0.1989 - val_accuracy: 0.9375\n",
      "Epoch 10/100\n",
      "96/96 [==============================] - 1s 6ms/step - loss: 0.0449 - accuracy: 0.9883 - val_loss: 0.0727 - val_accuracy: 0.9740\n",
      "Epoch 11/100\n",
      "96/96 [==============================] - 0s 5ms/step - loss: 0.0187 - accuracy: 0.9987 - val_loss: 0.1088 - val_accuracy: 0.9635\n",
      "Epoch 12/100\n",
      "96/96 [==============================] - 0s 5ms/step - loss: 0.0120 - accuracy: 0.9987 - val_loss: 0.0791 - val_accuracy: 0.9635\n",
      "Epoch 13/100\n",
      "96/96 [==============================] - 1s 6ms/step - loss: 0.1037 - accuracy: 0.9648 - val_loss: 0.2593 - val_accuracy: 0.9167\n",
      "Epoch 14/100\n",
      "96/96 [==============================] - 1s 5ms/step - loss: 0.0439 - accuracy: 0.9909 - val_loss: 0.0509 - val_accuracy: 0.9688\n",
      "Epoch 15/100\n",
      "96/96 [==============================] - 0s 5ms/step - loss: 0.0122 - accuracy: 1.0000 - val_loss: 0.0501 - val_accuracy: 0.9792\n",
      "Epoch 16/100\n",
      "96/96 [==============================] - 1s 6ms/step - loss: 0.0059 - accuracy: 1.0000 - val_loss: 0.0330 - val_accuracy: 0.9844\n",
      "Epoch 17/100\n",
      "96/96 [==============================] - 0s 5ms/step - loss: 0.0035 - accuracy: 1.0000 - val_loss: 0.0311 - val_accuracy: 0.9948\n",
      "Epoch 18/100\n",
      "96/96 [==============================] - 0s 5ms/step - loss: 0.0033 - accuracy: 1.0000 - val_loss: 0.0517 - val_accuracy: 0.9844\n",
      "Epoch 19/100\n",
      "96/96 [==============================] - 1s 5ms/step - loss: 0.0034 - accuracy: 1.0000 - val_loss: 0.0376 - val_accuracy: 0.9896\n",
      "Epoch 20/100\n",
      "96/96 [==============================] - 1s 5ms/step - loss: 0.0023 - accuracy: 1.0000 - val_loss: 0.0381 - val_accuracy: 0.9896\n",
      "Epoch 21/100\n",
      "96/96 [==============================] - 1s 5ms/step - loss: 0.0147 - accuracy: 0.9974 - val_loss: 0.1511 - val_accuracy: 0.9427\n",
      "Epoch 22/100\n",
      "96/96 [==============================] - 0s 5ms/step - loss: 0.1580 - accuracy: 0.9569 - val_loss: 0.3013 - val_accuracy: 0.8906\n",
      "6/6 [==============================] - 0s 3ms/step - loss: 0.0311 - accuracy: 0.9948\n",
      "\n",
      "Test Accuracy: 0.9948\n",
      "Test Loss: 0.0311\n"
     ]
    }
   ],
   "source": [
    "import tensorflow as tf\n",
    "\n",
    "# Create Sequential model\n",
    "model = keras.Sequential()\n",
    "model.add(keras.layers.Dense(128, activation='relu', input_shape=(9,)))\n",
    "model.add(keras.layers.Dense(64, activation='relu'))\n",
    "model.add(keras.layers.Dense(32, activation='relu'))\n",
    "model.add(keras.layers.Dense(16, activation='relu'))\n",
    "model.add(keras.layers.Dropout(0.3))  # Single Dropout, as in original\n",
    "model.add(keras.layers.Dense(2, activation='softmax'))\n",
    "\n",
    "\n",
    "# Compile with slightly lower learning rate\n",
    "optimizer = tf.keras.optimizers.Adam(learning_rate=0.001)\n",
    "model.compile(\n",
    "    optimizer=optimizer,\n",
    "    loss='sparse_categorical_crossentropy',\n",
    "    metrics=['accuracy']\n",
    ")\n",
    "# Add Early Stopping\n",
    "early_stopping = keras.callbacks.EarlyStopping(\n",
    "    monitor='val_loss',\n",
    "    patience=5,\n",
    "    restore_best_weights=True\n",
    ")\n",
    "\n",
    "# Fit the training data\n",
    "history = model.fit(\n",
    "    X_train, y_train,\n",
    "    epochs=100,\n",
    "    batch_size=8,\n",
    "    validation_data=(X_test, y_test),\n",
    "    callbacks=[early_stopping]\n",
    ")\n",
    "\n",
    "# Evaluate the model\n",
    "test_loss, test_accuracy = model.evaluate(X_test, y_test)\n",
    "print(f\"\\nTest Accuracy: {test_accuracy:.4f}\")\n",
    "print(f\"Test Loss: {test_loss:.4f}\")\n",
    "\n",
    "# Save the model\n",
    "model.save('tic-tac-toe-improved.keras')"
   ]
  },
  {
   "cell_type": "code",
   "execution_count": 20,
   "metadata": {},
   "outputs": [
    {
     "name": "stdout",
     "output_type": "stream",
     "text": [
      "1/1 [==============================] - 0s 138ms/step\n",
      "Here's what the model predicts compared to reality:\n",
      "Predicted: 0, Actual: 0\n",
      "Predicted: 0, Actual: 0\n",
      "Predicted: 1, Actual: 1\n",
      "Predicted: 1, Actual: 1\n",
      "Predicted: 0, Actual: 0\n",
      "Predicted: 0, Actual: 0\n",
      "Predicted: 1, Actual: 1\n",
      "Predicted: 0, Actual: 0\n",
      "Predicted: 1, Actual: 1\n",
      "Predicted: 1, Actual: 1\n"
     ]
    }
   ],
   "source": [
    "\n",
    "# Load the saved model (using the correct filename)\n",
    "loaded_model = keras.models.load_model(\"tic-tac-toe-improved.keras\")\n",
    "\n",
    "# Convert y_test to NumPy array if it's a Pandas Series\n",
    "y_test_array = y_test.to_numpy() if hasattr(y_test, 'to_numpy') else y_test\n",
    "\n",
    "# Select 5 random samples\n",
    "random_indices = np.random.choice(len(X_test), 10, replace=False)\n",
    "X_sample = X_test[random_indices]\n",
    "y_sample = y_test_array[random_indices]\n",
    "\n",
    "# Make predictions\n",
    "predictions = loaded_model.predict(X_sample)\n",
    "predicted_labels = np.argmax(predictions, axis=1)\n",
    "\n",
    "# Print results in your requested format\n",
    "print(\"Here's what the model predicts compared to reality:\")\n",
    "for i in range(len(X_sample)):\n",
    "    print(f\"Predicted: {predicted_labels[i]}, Actual: {y_sample[i]}\")"
   ]
  },
  {
   "cell_type": "markdown",
   "metadata": {},
   "source": [
    "**Which approach(es) did you find helpful to improve your model performance?**"
   ]
  },
  {
   "cell_type": "code",
   "execution_count": 21,
   "metadata": {},
   "outputs": [],
   "source": [
    "# To improve my model’s performance, I found several approaches particularly helpful.\n",
    "# First, increasing the number of training epochs allowed the model more time to learn\n",
    "# from the data, which enhanced its ability to fit the training set effectively.\n",
    "# Second, adding more layers to the model increased its capacity to capture complex\n",
    "# patterns in the data, contributing to better overall performance. Finally, carefully\n",
    "# adjusting the learning rate proved crucial—by fine-tuning it, I could balance the\n",
    "# speed of convergence with the model’s ability to generalize, preventing issues like\n",
    "# overfitting or underfitting. Together, these strategies—extending epochs, deepening\n",
    "# the architecture, and controlling the learning rate—significantly boosted the\n",
    "# model’s accuracy and reduced its loss."
   ]
  }
 ],
 "metadata": {
  "kernelspec": {
   "display_name": ".conda",
   "language": "python",
   "name": "python3"
  },
  "language_info": {
   "codemirror_mode": {
    "name": "ipython",
    "version": 3
   },
   "file_extension": ".py",
   "mimetype": "text/x-python",
   "name": "python",
   "nbconvert_exporter": "python",
   "pygments_lexer": "ipython3",
   "version": "3.9.21"
  }
 },
 "nbformat": 4,
 "nbformat_minor": 2
}
